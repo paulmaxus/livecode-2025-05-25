{
 "cells": [
  {
   "cell_type": "markdown",
   "id": "6a724799-1035-4596-a35e-330f41728da9",
   "metadata": {},
   "source": [
    "# Functions\n",
    "Making our code reusable"
   ]
  },
  {
   "cell_type": "code",
   "execution_count": 3,
   "id": "80eae74b-dfa4-4f81-a572-18c534af31a6",
   "metadata": {},
   "outputs": [],
   "source": [
    "def hello_world():\n",
    "    print(\"Hello world\")\n",
    "    print(\"This is a print statement in a function\")"
   ]
  },
  {
   "cell_type": "code",
   "execution_count": 4,
   "id": "5c928f25-07ce-4e10-aa11-1d744f82b852",
   "metadata": {},
   "outputs": [
    {
     "name": "stdout",
     "output_type": "stream",
     "text": [
      "Hello world\n",
      "This is a print statement in a function\n"
     ]
    }
   ],
   "source": [
    "hello_world()"
   ]
  },
  {
   "cell_type": "code",
   "execution_count": 5,
   "id": "389335ee-e2c4-4aa0-bced-ed4f3213ffad",
   "metadata": {},
   "outputs": [],
   "source": [
    "def add_numbers(number_1, number_2):\n",
    "    total_number = number_1 + number_2\n",
    "    print(total_number)"
   ]
  },
  {
   "cell_type": "code",
   "execution_count": 6,
   "id": "33489590-73a1-4fa4-889a-0cd5422e5ad4",
   "metadata": {},
   "outputs": [
    {
     "name": "stdout",
     "output_type": "stream",
     "text": [
      "7\n"
     ]
    }
   ],
   "source": [
    "add_numbers(5,2)"
   ]
  },
  {
   "cell_type": "code",
   "execution_count": 7,
   "id": "ba33c9a4-6bf9-4b2c-b417-29bccf5cc34b",
   "metadata": {},
   "outputs": [
    {
     "ename": "NameError",
     "evalue": "name 'number_1' is not defined",
     "output_type": "error",
     "traceback": [
      "\u001b[1;31m---------------------------------------------------------------------------\u001b[0m",
      "\u001b[1;31mNameError\u001b[0m                                 Traceback (most recent call last)",
      "Cell \u001b[1;32mIn[7], line 1\u001b[0m\n\u001b[1;32m----> 1\u001b[0m \u001b[38;5;28mprint\u001b[39m(\u001b[43mnumber_1\u001b[49m)\n",
      "\u001b[1;31mNameError\u001b[0m: name 'number_1' is not defined"
     ]
    }
   ],
   "source": [
    "print(number_1)"
   ]
  },
  {
   "cell_type": "code",
   "execution_count": null,
   "id": "408b8691-57e5-47f0-86bc-77bdff432dfd",
   "metadata": {},
   "outputs": [],
   "source": []
  }
 ],
 "metadata": {
  "kernelspec": {
   "display_name": "Python 3 (ipykernel)",
   "language": "python",
   "name": "python3"
  },
  "language_info": {
   "codemirror_mode": {
    "name": "ipython",
    "version": 3
   },
   "file_extension": ".py",
   "mimetype": "text/x-python",
   "name": "python",
   "nbconvert_exporter": "python",
   "pygments_lexer": "ipython3",
   "version": "3.13.0"
  }
 },
 "nbformat": 4,
 "nbformat_minor": 5
}
