{
 "cells": [
  {
   "cell_type": "markdown",
   "id": "6a724799-1035-4596-a35e-330f41728da9",
   "metadata": {},
   "source": [
    "# Functions\n",
    "Making our code reusable"
   ]
  },
  {
   "cell_type": "code",
   "execution_count": null,
   "id": "80eae74b-dfa4-4f81-a572-18c534af31a6",
   "metadata": {},
   "outputs": [],
   "source": [
    "def hello_wo"
   ]
  }
 ],
 "metadata": {
  "kernelspec": {
   "display_name": "Python 3 (ipykernel)",
   "language": "python",
   "name": "python3"
  },
  "language_info": {
   "codemirror_mode": {
    "name": "ipython",
    "version": 3
   },
   "file_extension": ".py",
   "mimetype": "text/x-python",
   "name": "python",
   "nbconvert_exporter": "python",
   "pygments_lexer": "ipython3",
   "version": "3.13.0"
  }
 },
 "nbformat": 4,
 "nbformat_minor": 5
}
