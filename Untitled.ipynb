{
 "cells": [
  {
   "cell_type": "markdown",
   "id": "6a724799-1035-4596-a35e-330f41728da9",
   "metadata": {},
   "source": [
    "# Functions\n",
    "Making our code reusable"
   ]
  },
  {
   "cell_type": "code",
   "execution_count": 3,
   "id": "80eae74b-dfa4-4f81-a572-18c534af31a6",
   "metadata": {},
   "outputs": [],
   "source": [
    "def hello_world():\n",
    "    print(\"Hello world\")\n",
    "    print(\"This is a print statement in a function\")"
   ]
  },
  {
   "cell_type": "code",
   "execution_count": 4,
   "id": "5c928f25-07ce-4e10-aa11-1d744f82b852",
   "metadata": {},
   "outputs": [
    {
     "name": "stdout",
     "output_type": "stream",
     "text": [
      "Hello world\n",
      "This is a print statement in a function\n"
     ]
    }
   ],
   "source": [
    "hello_world()"
   ]
  },
  {
   "cell_type": "code",
   "execution_count": null,
   "id": "389335ee-e2c4-4aa0-bced-ed4f3213ffad",
   "metadata": {},
   "outputs": [],
   "source": [
    "def add_numbers(number_1, number_2):\n",
    "    "
   ]
  }
 ],
 "metadata": {
  "kernelspec": {
   "display_name": "Python 3 (ipykernel)",
   "language": "python",
   "name": "python3"
  },
  "language_info": {
   "codemirror_mode": {
    "name": "ipython",
    "version": 3
   },
   "file_extension": ".py",
   "mimetype": "text/x-python",
   "name": "python",
   "nbconvert_exporter": "python",
   "pygments_lexer": "ipython3",
   "version": "3.13.0"
  }
 },
 "nbformat": 4,
 "nbformat_minor": 5
}
