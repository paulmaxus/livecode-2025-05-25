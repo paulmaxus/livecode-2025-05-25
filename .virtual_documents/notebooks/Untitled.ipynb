


# import pandas
import pandas


pandas.read_csv("../data/gapminder_gdp_oceania.csv")


pandas.read.csv
