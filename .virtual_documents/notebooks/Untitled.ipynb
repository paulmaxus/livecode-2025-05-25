


# import pandas
import pandas


pandas.read_csv("../data/gapminder_gdp_oceania.csv")


pandas.read_csv("../data/gapminder_gdp_oceania.csv")


# use an alias
import pandas as pd


pd.read_csv("../data/gapminder_gdp_oceania.csv")


# set a column as an index
data_oceania = pd.read_csv("../data/gapminder_gdp_oceania.csv", 
                          index_col="country")


data_oceania


data_oceania.info()


data_oceania.columns


data_oceania.T


data_oceania_t = data_oceania.T


data_oceania_t



