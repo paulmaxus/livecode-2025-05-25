


# import pandas
import pandas


pandas.read_csv("../data/gapminder_gdp_oceania.csv")


pandas.read_csv("../data/gapminder_gdp_oceania.csv")


# use an alias
import pandas as pd


pd.read_csv("../data/gapminder_gdp_oceania.csv")


# set a column as an index
pd.read_csv("")
