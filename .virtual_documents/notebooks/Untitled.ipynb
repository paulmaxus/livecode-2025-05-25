


# import pandas
import pandas


pandas.read_csv("../data/gapminder_gdp_oceania.csv")


pandas.read_csv("../data/gapminder_gdp_oceania.csv")


# use an alias
import pandas as pd


pd.read_csv("../data/gapminder_gdp_oceania.csv")


# set a column as an index
data_oceania = pd.read_csv("../data/gapminder_gdp_oceania.csv", 
                          index_col="country")


data_oceania


data_oceania.info()


data_oceania.columns


data_oceania.T


data_oceania_t = data_oceania.T


data_oceania_t


data_oceania_t.describe()


data_europe = pd.read_csv('../data/gapminder_gdp_europe.csv', index_col="country")



data_europe.shape


data_europe.head(5)


# slice wit .iloc
# [row index, column index]
data_europe.iloc[0,0]


# slice with .loc
data_europe.loc["Albania", "gdpPercap_1952"]


gpd_alb_1952 = data_europe.loc["Albania", "gdpPercap_1952"]


gpd_alb_1952


# slicing
data_europe.loc["Albania", "gdpPercap_1962":]


data_europe.loc[:"Turkey","gdpPercap_1962"]


data_europe


# values for denmark till france, year 1972


data_europe.loc["Denmark":"France", "gdpPercap_1972"]





import glob


glob.glob
