{
 "cells": [
  {
   "cell_type": "markdown",
   "id": "e3c91122-7a2d-4f15-a978-d2c819d586a5",
   "metadata": {},
   "source": [
    "# Conditionals\n",
    "Execute code depending on whether a value is true or not"
   ]
  },
  {
   "cell_type": "code",
   "execution_count": 2,
   "id": "04fbf630-abcd-4b16-8593-b71fbe4fe992",
   "metadata": {},
   "outputs": [
    {
     "name": "stdout",
     "output_type": "stream",
     "text": [
      "True\n",
      "True\n",
      "False\n",
      "False\n",
      "False\n"
     ]
    }
   ],
   "source": [
    "height = 10\n",
    "print(height < 20) # less than\n",
    "print(height <= 20) # less than or equal to\n",
    "print(height > 20) # greater than\n",
    "print(height >= 20) # greater than or equal to\n",
    "print (height == 20) # equal to"
   ]
  },
  {
   "cell_type": "code",
   "execution_count": 3,
   "id": "39c79f43-8594-499e-92d6-9cbbec925bde",
   "metadata": {},
   "outputs": [
    {
     "name": "stdout",
     "output_type": "stream",
     "text": [
      "Height is less than 20\n"
     ]
    }
   ],
   "source": [
    "height = 10\n",
    "if height < 20:\n",
    "    # This block will only be executed if condition is True\n",
    "    print(\"Height is less than 20\")"
   ]
  },
  {
   "cell_type": "code",
   "execution_count": 4,
   "id": "5a59773e-1678-43de-9f2d-81a484315836",
   "metadata": {},
   "outputs": [],
   "source": [
    "# This does nothing, because height is not less than 20\n",
    "height = 30\n",
    "if height < 20:\n",
    "    # This block will only be executed if condition is True\n",
    "    print(\"Height is less than 20\")"
   ]
  },
  {
   "cell_type": "code",
   "execution_count": 5,
   "id": "69750d3d-5021-4fec-86fb-c1d59fd5705c",
   "metadata": {},
   "outputs": [
    {
     "name": "stdout",
     "output_type": "stream",
     "text": [
      "Current height is 20\n",
      "Current height is 30\n",
      "Current height is 50\n",
      "Current height is 10\n",
      "Height is less than 20\n",
      "Current height is 5\n",
      "Height is less than 20\n"
     ]
    }
   ],
   "source": [
    "# Using conditionals in a loop\n",
    "heights_m = [20, 30, 50, 10, 5]\n",
    "for height in heights_m:\n",
    "    print(\"Current height is\", height)\n",
    "    if height < 20:\n",
    "        # This block will only be executed if condition is True\n",
    "        print (\"Height is less than 20\")"
   ]
  },
  {
   "cell_type": "code",
   "execution_count": 8,
   "id": "d4d8f66d-0360-42fb-896f-5297dc1fadf2",
   "metadata": {},
   "outputs": [
    {
     "name": "stdout",
     "output_type": "stream",
     "text": [
      "Height is greater than or equal to 20\n"
     ]
    }
   ],
   "source": [
    "height = 30\n",
    "if height < 20:\n",
    "    # This block will only run if condition is True\n",
    "    print(\"Height is less than 20\")\n",
    "else:\n",
    "    # This block will only run if all statements are False\n",
    "    print(\"Height is greater than or equal to 20\")"
   ]
  },
  {
   "cell_type": "code",
   "execution_count": 10,
   "id": "aff1b075-e547-4d5f-8cdd-42d4238d5550",
   "metadata": {},
   "outputs": [
    {
     "name": "stdout",
     "output_type": "stream",
     "text": [
      "Height > 100\n"
     ]
    }
   ],
   "source": [
    "height = 120\n",
    "if height < 20:\n",
    "    print(\"Height < 20\")\n",
    "elif height > 100:\n",
    "    print (\"Height > 100\")\n",
    "elif height == 120:\n",
    "    # When height is 120, this will still not get run because the statement ab\n",
    "    print(\"exactly!\")\n",
    "else:\n",
    "    # This block will only run if all statements are False\n",
    "    print (\"Height is not less than 20, not greater than 100\")\n"
   ]
  },
  {
   "cell_type": "code",
   "execution_count": 16,
   "id": "2a9e7999-62ee-43f0-af74-3306b8248336",
   "metadata": {},
   "outputs": [
    {
     "data": {
      "text/plain": [
       "True"
      ]
     },
     "execution_count": 16,
     "metadata": {},
     "output_type": "execute_result"
    }
   ],
   "source": [
    "# True if height does not equal 120\n",
    "height != 120\n",
    "    "
   ]
  },
  {
   "cell_type": "code",
   "execution_count": 15,
   "id": "eac7bd59-4460-4606-a385-863248194fde",
   "metadata": {},
   "outputs": [
    {
     "name": "stdout",
     "output_type": "stream",
     "text": [
      "Height < 20\n"
     ]
    }
   ],
   "source": [
    "# Testing two variables\n",
    "height = 10\n",
    "other_height = 10\n",
    "# Both these statements are true, but only the first gets run\n",
    "if height < 20:\n",
    "    print(\"Height < 20\")\n",
    "elif other_height < 20:\n",
    "    print (\"Other height < 20\")\n",
    "else:\n",
    "    print (\"Neither height < 20\")\n"
   ]
  },
  {
   "cell_type": "code",
   "execution_count": null,
   "id": "ed803727-2483-4069-8a2a-6695f3ef7627",
   "metadata": {},
   "outputs": [],
   "source": []
  }
 ],
 "metadata": {
  "kernelspec": {
   "display_name": "Python 3 (ipykernel)",
   "language": "python",
   "name": "python3"
  },
  "language_info": {
   "codemirror_mode": {
    "name": "ipython",
    "version": 3
   },
   "file_extension": ".py",
   "mimetype": "text/x-python",
   "name": "python",
   "nbconvert_exporter": "python",
   "pygments_lexer": "ipython3",
   "version": "3.13.0"
  }
 },
 "nbformat": 4,
 "nbformat_minor": 5
}
