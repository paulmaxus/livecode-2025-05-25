{
 "cells": [
  {
   "cell_type": "markdown",
   "id": "e3c91122-7a2d-4f15-a978-d2c819d586a5",
   "metadata": {},
   "source": [
    "# Conditionals\n",
    "Execute code depending on whether a value is true or not"
   ]
  },
  {
   "cell_type": "code",
   "execution_count": 2,
   "id": "04fbf630-abcd-4b16-8593-b71fbe4fe992",
   "metadata": {},
   "outputs": [
    {
     "name": "stdout",
     "output_type": "stream",
     "text": [
      "True\n",
      "True\n",
      "False\n",
      "False\n",
      "False\n"
     ]
    }
   ],
   "source": [
    "height = 10\n",
    "print(height < 20) # less than\n",
    "print(height <= 20) # less than or equal to\n",
    "print(height > 20) # greater than\n",
    "print(height >= 20) # greater than or equal to\n",
    "print (height == 20) # equal to\n",
    "print (height != 20) # not equal to"
   ]
  },
  {
   "cell_type": "code",
   "execution_count": 3,
   "id": "39c79f43-8594-499e-92d6-9cbbec925bde",
   "metadata": {},
   "outputs": [
    {
     "name": "stdout",
     "output_type": "stream",
     "text": [
      "Height is less than 20\n"
     ]
    }
   ],
   "source": [
    "height = 10\n",
    "if height < 20:\n",
    "    # This block will only be executed if condition is True\n",
    "    print(\"Height is less than 20\")"
   ]
  },
  {
   "cell_type": "code",
   "execution_count": 4,
   "id": "5a59773e-1678-43de-9f2d-81a484315836",
   "metadata": {},
   "outputs": [],
   "source": [
    "# This does nothing, because height is not less than 20\n",
    "height = 30\n",
    "if height < 20:\n",
    "    # This block will only be executed if condition is True\n",
    "    print(\"Height is less than 20\")"
   ]
  },
  {
   "cell_type": "code",
   "execution_count": 5,
   "id": "69750d3d-5021-4fec-86fb-c1d59fd5705c",
   "metadata": {},
   "outputs": [
    {
     "name": "stdout",
     "output_type": "stream",
     "text": [
      "Current height is 20\n",
      "Current height is 30\n",
      "Current height is 50\n",
      "Current height is 10\n",
      "Height is less than 20\n",
      "Current height is 5\n",
      "Height is less than 20\n"
     ]
    }
   ],
   "source": [
    "# Using conditionals in a loop\n",
    "heights_m = [20, 30, 50, 10, 5]\n",
    "for height in heights_m:\n",
    "    print(\"Current height is\", height)\n",
    "    if height < 20:\n",
    "        # This block will only be executed if condition is True\n",
    "        print (\"Height is less than 20\")"
   ]
  },
  {
   "cell_type": "code",
   "execution_count": 8,
   "id": "d4d8f66d-0360-42fb-896f-5297dc1fadf2",
   "metadata": {},
   "outputs": [
    {
     "name": "stdout",
     "output_type": "stream",
     "text": [
      "Height is greater than or equal to 20\n"
     ]
    }
   ],
   "source": [
    "height = 30\n",
    "if height < 20:\n",
    "    # This block will only run if condition is True\n",
    "    print(\"Height is less than 20\")\n",
    "else:\n",
    "    # This block will only run if all statements are False\n",
    "    print(\"Height is greater than or equal to 20\")"
   ]
  },
  {
   "cell_type": "code",
   "execution_count": 10,
   "id": "aff1b075-e547-4d5f-8cdd-42d4238d5550",
   "metadata": {},
   "outputs": [
    {
     "name": "stdout",
     "output_type": "stream",
     "text": [
      "Height > 100\n"
     ]
    }
   ],
   "source": [
    "height = 120\n",
    "if height < 20:\n",
    "    print(\"Height < 20\")\n",
    "elif height > 100:\n",
    "    print (\"Height > 100\")\n",
    "elif height == 120:\n",
    "    # When height is 120, this will still not get run because the statement ab\n",
    "    print(\"exactly!\")\n",
    "else:\n",
    "    # This block will only run if all statements are False\n",
    "    print (\"Height is not less than 20, not greater than 100\")\n"
   ]
  },
  {
   "cell_type": "code",
   "execution_count": 16,
   "id": "2a9e7999-62ee-43f0-af74-3306b8248336",
   "metadata": {},
   "outputs": [
    {
     "data": {
      "text/plain": [
       "True"
      ]
     },
     "execution_count": 16,
     "metadata": {},
     "output_type": "execute_result"
    }
   ],
   "source": [
    "# True if height does not equal 120\n",
    "height != 120\n",
    "    "
   ]
  },
  {
   "cell_type": "code",
   "execution_count": 15,
   "id": "eac7bd59-4460-4606-a385-863248194fde",
   "metadata": {},
   "outputs": [
    {
     "name": "stdout",
     "output_type": "stream",
     "text": [
      "Height < 20\n"
     ]
    }
   ],
   "source": [
    "# Testing two variables\n",
    "height = 10\n",
    "other_height = 10\n",
    "# Both these statements are true, but only the first gets run\n",
    "if height < 20:\n",
    "    # Only print this if height less than 20\n",
    "    print(\"Height < 20\")\n",
    "elif other_height < 20:\n",
    "    # Only print this if other_height less than 20\n",
    "    print (\"Other height < 20\")\n",
    "else:\n",
    "    # Only print this if neither case is true\n",
    "    print (\"Neither height < 20\")\n"
   ]
  },
  {
   "cell_type": "code",
   "execution_count": 21,
   "id": "4308de68-1bc9-48f8-91bb-932ad8ec848d",
   "metadata": {},
   "outputs": [
    {
     "name": "stdout",
     "output_type": "stream",
     "text": [
      "True\n",
      "False\n",
      "True\n",
      "False\n"
     ]
    }
   ],
   "source": [
    "my_name = \"Julian Evans\"\n",
    "print(my_name == \"Julian Evans\")\n",
    "\n",
    "other_name = \"Anthony Hopkins\"\n",
    "print(other_name == \"Julian Evans\")\n",
    "\n",
    "# in \n",
    "print(\"Evans\" in my_name)\n",
    "\n",
    "print(\"Evans\" in other_name)"
   ]
  },
  {
   "cell_type": "code",
   "execution_count": 24,
   "id": "f17f6db4-b8ab-4bc5-a509-95d430305d14",
   "metadata": {},
   "outputs": [
    {
     "name": "stdout",
     "output_type": "stream",
     "text": [
      "False\n"
     ]
    }
   ],
   "source": [
    "# Case matters when testing if strings are equal\n",
    "my_name = \"Julian Evans\"\n",
    "print(my_name == \"julian Evans\")"
   ]
  },
  {
   "cell_type": "markdown",
   "id": "d39e1a40-9563-45fc-b4b1-ddd5b2c67ff5",
   "metadata": {},
   "source": [
    "# AND and OR \n",
    "Combine different conditions\n"
   ]
  },
  {
   "cell_type": "code",
   "execution_count": 22,
   "id": "1b6864e6-43d5-4d77-a62c-4417f87a7b35",
   "metadata": {},
   "outputs": [
    {
     "name": "stdout",
     "output_type": "stream",
     "text": [
      "True\n"
     ]
    }
   ],
   "source": [
    "height = 10\n",
    "print(height < 20 and height > 5)"
   ]
  },
  {
   "cell_type": "code",
   "execution_count": 23,
   "id": "74cd0411-2f2b-4de1-ae54-47546da9541c",
   "metadata": {},
   "outputs": [
    {
     "name": "stdout",
     "output_type": "stream",
     "text": [
      "False\n"
     ]
    }
   ],
   "source": [
    "height = 3\n",
    "print(height < 20 and height > 5)"
   ]
  },
  {
   "cell_type": "code",
   "execution_count": 25,
   "id": "2203cff7-c985-4ded-8f33-d0b3dd216f09",
   "metadata": {},
   "outputs": [
    {
     "name": "stdout",
     "output_type": "stream",
     "text": [
      "Height is less than 20\n"
     ]
    }
   ],
   "source": [
    "height = 3\n",
    "if height < 20 and height >5:\n",
    "    print(\"Height is between 5 and 20\")\n",
    "elif height < 20:\n",
    "    print(\"Height is less than 20\")\n",
    "else:\n",
    "    print(\"Height is greater than or equal to 20\")"
   ]
  },
  {
   "cell_type": "code",
   "execution_count": 29,
   "id": "d341dbfd-a55a-4c90-9c12-40e4eb54e737",
   "metadata": {},
   "outputs": [
    {
     "name": "stdout",
     "output_type": "stream",
     "text": [
      "True\n",
      "False\n"
     ]
    }
   ],
   "source": [
    "height = 5\n",
    "print(height < 10 or height > 20)\n",
    "\n",
    "height = 15\n",
    "print(height < 10 or height > 20)"
   ]
  },
  {
   "cell_type": "code",
   "execution_count": null,
   "id": "05e1249c-c263-4cfb-9bb3-c4c395b118c6",
   "metadata": {},
   "outputs": [],
   "source": [
    "name_list = [\"Gareth\", \n",
    "             \"Gerald\", \n",
    "             \"Fred\", \n",
    "             \"Monica\", \n",
    "             \"Eva\",\n",
    "             \"Geraldine\",\n",
    "             \"Rita\"]\n",
    "\n",
    "# Use a for loop to loop through the names\n",
    "# Use a conditional to check if first letter of name\n",
    "# is G\n",
    "# If this is the case, store it in a list"
   ]
  }
 ],
 "metadata": {
  "kernelspec": {
   "display_name": "Python 3 (ipykernel)",
   "language": "python",
   "name": "python3"
  },
  "language_info": {
   "codemirror_mode": {
    "name": "ipython",
    "version": 3
   },
   "file_extension": ".py",
   "mimetype": "text/x-python",
   "name": "python",
   "nbconvert_exporter": "python",
   "pygments_lexer": "ipython3",
   "version": "3.13.0"
  }
 },
 "nbformat": 4,
 "nbformat_minor": 5
}
