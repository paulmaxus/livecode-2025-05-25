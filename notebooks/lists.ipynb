{
 "cells": [
  {
   "cell_type": "markdown",
   "id": "50724ca8-392d-4da0-bc19-02f6cd609908",
   "metadata": {},
   "source": [
    "# Lists\n",
    "Lists are collections of values"
   ]
  },
  {
   "cell_type": "code",
   "execution_count": 1,
   "id": "7454d771-c6ef-4cd4-9aed-f889eff2dea3",
   "metadata": {},
   "outputs": [],
   "source": [
    "heights = [450, 100, 50, 75, 81]"
   ]
  },
  {
   "cell_type": "code",
   "execution_count": 2,
   "id": "5c0ad07d-6e50-4044-8021-917dc3ca5ec4",
   "metadata": {},
   "outputs": [
    {
     "name": "stdout",
     "output_type": "stream",
     "text": [
      "[450, 100, 50, 75, 81]\n"
     ]
    }
   ],
   "source": [
    "print(heights)"
   ]
  },
  {
   "cell_type": "code",
   "execution_count": 3,
   "id": "81df9477-15eb-4549-946d-ddc294dd824e",
   "metadata": {},
   "outputs": [],
   "source": [
    "heights_with_none = [450, None]"
   ]
  },
  {
   "cell_type": "code",
   "execution_count": 4,
   "id": "30e0cbb0-1aae-4ae8-8a3c-fcd87f437a1b",
   "metadata": {},
   "outputs": [
    {
     "name": "stdout",
     "output_type": "stream",
     "text": [
      "[450, None]\n"
     ]
    }
   ],
   "source": [
    "print(heights_with_none)"
   ]
  },
  {
   "cell_type": "code",
   "execution_count": 5,
   "id": "a6758a14-8eaf-4014-9126-bb672bb1cbd3",
   "metadata": {},
   "outputs": [
    {
     "name": "stdout",
     "output_type": "stream",
     "text": [
      "<class 'list'>\n"
     ]
    }
   ],
   "source": [
    "print(type(heights))"
   ]
  },
  {
   "cell_type": "code",
   "execution_count": 6,
   "id": "e98e5bfa-564d-482d-b605-b5a892bf43f6",
   "metadata": {},
   "outputs": [
    {
     "name": "stdout",
     "output_type": "stream",
     "text": [
      "450\n"
     ]
    }
   ],
   "source": [
    "print(heights[0])"
   ]
  },
  {
   "cell_type": "code",
   "execution_count": 7,
   "id": "6e933ba6-0884-4e5f-8e5e-8290eabc168c",
   "metadata": {},
   "outputs": [
    {
     "name": "stdout",
     "output_type": "stream",
     "text": [
      "<class 'int'>\n"
     ]
    }
   ],
   "source": [
    "print(type(heights[0]))"
   ]
  },
  {
   "cell_type": "code",
   "execution_count": 8,
   "id": "ccd3bc49-5cbe-4d74-bfe0-2436f2d29657",
   "metadata": {},
   "outputs": [],
   "source": [
    "heights[2] = 20"
   ]
  },
  {
   "cell_type": "code",
   "execution_count": 9,
   "id": "954af5c9-39fc-474d-beb0-9b203788c695",
   "metadata": {},
   "outputs": [
    {
     "name": "stdout",
     "output_type": "stream",
     "text": [
      "[450, 100, 20, 75, 81]\n"
     ]
    }
   ],
   "source": [
    "print(heights)"
   ]
  },
  {
   "cell_type": "code",
   "execution_count": 10,
   "id": "0f357e72-4185-4b83-b71e-bbfbefad5f78",
   "metadata": {},
   "outputs": [],
   "source": [
    "heights.append(50)"
   ]
  },
  {
   "cell_type": "code",
   "execution_count": 11,
   "id": "0e4b0828-4544-4da7-a6f4-a55a9a1c8907",
   "metadata": {},
   "outputs": [
    {
     "name": "stdout",
     "output_type": "stream",
     "text": [
      "[450, 100, 20, 75, 81, 50]\n"
     ]
    }
   ],
   "source": [
    "print(heights)"
   ]
  },
  {
   "cell_type": "code",
   "execution_count": 13,
   "id": "cefa5bf3-13a8-4772-ae88-d57d0c3d52e2",
   "metadata": {},
   "outputs": [],
   "source": [
    "#help(heights) get all methods of list object"
   ]
  },
  {
   "cell_type": "code",
   "execution_count": 14,
   "id": "5b2743a5-82eb-44f9-9e88-a176cfc29ebf",
   "metadata": {},
   "outputs": [],
   "source": [
    "del heights[0]"
   ]
  },
  {
   "cell_type": "code",
   "execution_count": 15,
   "id": "fecb3de2-bda5-442e-b0b0-65fa9778a5a2",
   "metadata": {},
   "outputs": [
    {
     "name": "stdout",
     "output_type": "stream",
     "text": [
      "[100, 20, 75, 81, 50]\n"
     ]
    }
   ],
   "source": [
    "print(heights)"
   ]
  },
  {
   "cell_type": "code",
   "execution_count": 16,
   "id": "8aa75b87-c622-4c71-99ca-483329f5e7c9",
   "metadata": {},
   "outputs": [
    {
     "data": {
      "text/plain": [
       "100"
      ]
     },
     "execution_count": 16,
     "metadata": {},
     "output_type": "execute_result"
    }
   ],
   "source": [
    "heights.pop(0)"
   ]
  },
  {
   "cell_type": "code",
   "execution_count": 17,
   "id": "241de7a4-f76e-485a-bbb4-490a3bad7fe1",
   "metadata": {},
   "outputs": [
    {
     "name": "stdout",
     "output_type": "stream",
     "text": [
      "[20, 75, 81, 50]\n"
     ]
    }
   ],
   "source": [
    "print(heights)"
   ]
  },
  {
   "cell_type": "code",
   "execution_count": 18,
   "id": "7b1f19f5-3a29-4ca4-b5db-70399f18850f",
   "metadata": {},
   "outputs": [],
   "source": [
    "single_height = heights.pop(0)"
   ]
  },
  {
   "cell_type": "code",
   "execution_count": 19,
   "id": "27cc9a96-faee-40d3-81a5-bd661ec1f482",
   "metadata": {},
   "outputs": [
    {
     "name": "stdout",
     "output_type": "stream",
     "text": [
      "[75, 81, 50]\n",
      "20\n"
     ]
    }
   ],
   "source": [
    "print(heights)\n",
    "print(single_height)"
   ]
  },
  {
   "cell_type": "code",
   "execution_count": 20,
   "id": "39706cf5-90e8-4319-a8d6-ec22fdca9f45",
   "metadata": {},
   "outputs": [],
   "source": [
    "empty_list = []"
   ]
  },
  {
   "cell_type": "code",
   "execution_count": 21,
   "id": "6afd0ab7-dee1-467a-a5cb-7751df51dbac",
   "metadata": {},
   "outputs": [
    {
     "name": "stdout",
     "output_type": "stream",
     "text": [
      "[]\n"
     ]
    }
   ],
   "source": [
    "print(empty_list)"
   ]
  },
  {
   "cell_type": "code",
   "execution_count": 22,
   "id": "bdb677ff-60e3-4f14-88db-e4595209f813",
   "metadata": {},
   "outputs": [
    {
     "name": "stdout",
     "output_type": "stream",
     "text": [
      "0\n"
     ]
    }
   ],
   "source": [
    "print(len(empty_list))"
   ]
  },
  {
   "cell_type": "code",
   "execution_count": 23,
   "id": "4ce5104b-0e2b-426a-bbed-79f3c21d4819",
   "metadata": {},
   "outputs": [
    {
     "name": "stdout",
     "output_type": "stream",
     "text": [
      "3\n"
     ]
    }
   ],
   "source": [
    "print(len(heights))"
   ]
  },
  {
   "cell_type": "code",
   "execution_count": null,
   "id": "e6ae3699-cdf1-431a-bb2b-72661c97345e",
   "metadata": {},
   "outputs": [],
   "source": []
  }
 ],
 "metadata": {
  "kernelspec": {
   "display_name": "Python 3 (ipykernel)",
   "language": "python",
   "name": "python3"
  },
  "language_info": {
   "codemirror_mode": {
    "name": "ipython",
    "version": 3
   },
   "file_extension": ".py",
   "mimetype": "text/x-python",
   "name": "python",
   "nbconvert_exporter": "python",
   "pygments_lexer": "ipython3",
   "version": "3.13.0"
  }
 },
 "nbformat": 4,
 "nbformat_minor": 5
}
