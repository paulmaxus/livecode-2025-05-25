{
 "cells": [
  {
   "cell_type": "markdown",
   "id": "50724ca8-392d-4da0-bc19-02f6cd609908",
   "metadata": {},
   "source": [
    "# Lists\n",
    "Lists are collections of values"
   ]
  },
  {
   "cell_type": "code",
   "execution_count": 1,
   "id": "7454d771-c6ef-4cd4-9aed-f889eff2dea3",
   "metadata": {},
   "outputs": [],
   "source": [
    "heights = [450, 100, 50, 75, 81]"
   ]
  },
  {
   "cell_type": "code",
   "execution_count": 2,
   "id": "5c0ad07d-6e50-4044-8021-917dc3ca5ec4",
   "metadata": {},
   "outputs": [
    {
     "name": "stdout",
     "output_type": "stream",
     "text": [
      "[450, 100, 50, 75, 81]\n"
     ]
    }
   ],
   "source": [
    "print(heights)"
   ]
  },
  {
   "cell_type": "code",
   "execution_count": 3,
   "id": "81df9477-15eb-4549-946d-ddc294dd824e",
   "metadata": {},
   "outputs": [],
   "source": [
    "heights_with_none = [450, None]"
   ]
  },
  {
   "cell_type": "code",
   "execution_count": 4,
   "id": "30e0cbb0-1aae-4ae8-8a3c-fcd87f437a1b",
   "metadata": {},
   "outputs": [
    {
     "name": "stdout",
     "output_type": "stream",
     "text": [
      "[450, None]\n"
     ]
    }
   ],
   "source": [
    "print(heights_with_none)"
   ]
  },
  {
   "cell_type": "code",
   "execution_count": 5,
   "id": "a6758a14-8eaf-4014-9126-bb672bb1cbd3",
   "metadata": {},
   "outputs": [
    {
     "name": "stdout",
     "output_type": "stream",
     "text": [
      "<class 'list'>\n"
     ]
    }
   ],
   "source": [
    "print(type(heights))"
   ]
  },
  {
   "cell_type": "code",
   "execution_count": 6,
   "id": "e98e5bfa-564d-482d-b605-b5a892bf43f6",
   "metadata": {},
   "outputs": [
    {
     "name": "stdout",
     "output_type": "stream",
     "text": [
      "450\n"
     ]
    }
   ],
   "source": [
    "print(heights[0])"
   ]
  },
  {
   "cell_type": "code",
   "execution_count": 7,
   "id": "6e933ba6-0884-4e5f-8e5e-8290eabc168c",
   "metadata": {},
   "outputs": [
    {
     "name": "stdout",
     "output_type": "stream",
     "text": [
      "<class 'int'>\n"
     ]
    }
   ],
   "source": [
    "print(type(heights[0]))"
   ]
  },
  {
   "cell_type": "code",
   "execution_count": null,
   "id": "ccd3bc49-5cbe-4d74-bfe0-2436f2d29657",
   "metadata": {},
   "outputs": [],
   "source": [
    "heights["
   ]
  }
 ],
 "metadata": {
  "kernelspec": {
   "display_name": "Python 3 (ipykernel)",
   "language": "python",
   "name": "python3"
  },
  "language_info": {
   "codemirror_mode": {
    "name": "ipython",
    "version": 3
   },
   "file_extension": ".py",
   "mimetype": "text/x-python",
   "name": "python",
   "nbconvert_exporter": "python",
   "pygments_lexer": "ipython3",
   "version": "3.13.0"
  }
 },
 "nbformat": 4,
 "nbformat_minor": 5
}
