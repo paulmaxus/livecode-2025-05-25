{
 "cells": [
  {
   "cell_type": "markdown",
   "id": "50724ca8-392d-4da0-bc19-02f6cd609908",
   "metadata": {},
   "source": [
    "# Lists\n",
    "Lists are collections of values"
   ]
  },
  {
   "cell_type": "code",
   "execution_count": 1,
   "id": "7454d771-c6ef-4cd4-9aed-f889eff2dea3",
   "metadata": {},
   "outputs": [],
   "source": [
    "heights = [450, 100, 50, 75, 81]"
   ]
  },
  {
   "cell_type": "code",
   "execution_count": 2,
   "id": "5c0ad07d-6e50-4044-8021-917dc3ca5ec4",
   "metadata": {},
   "outputs": [
    {
     "name": "stdout",
     "output_type": "stream",
     "text": [
      "[450, 100, 50, 75, 81]\n"
     ]
    }
   ],
   "source": [
    "print(heights)"
   ]
  },
  {
   "cell_type": "code",
   "execution_count": null,
   "id": "81df9477-15eb-4549-946d-ddc294dd824e",
   "metadata": {},
   "outputs": [],
   "source": []
  }
 ],
 "metadata": {
  "kernelspec": {
   "display_name": "Python 3 (ipykernel)",
   "language": "python",
   "name": "python3"
  },
  "language_info": {
   "codemirror_mode": {
    "name": "ipython",
    "version": 3
   },
   "file_extension": ".py",
   "mimetype": "text/x-python",
   "name": "python",
   "nbconvert_exporter": "python",
   "pygments_lexer": "ipython3",
   "version": "3.13.0"
  }
 },
 "nbformat": 4,
 "nbformat_minor": 5
}
