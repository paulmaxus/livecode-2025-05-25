{
 "cells": [
  {
   "cell_type": "code",
   "execution_count": 4,
   "id": "cacbbc33-4532-42c4-9a7f-0f2ede604f2e",
   "metadata": {},
   "outputs": [
    {
     "name": "stdout",
     "output_type": "stream",
     "text": [
      "hello\n"
     ]
    }
   ],
   "source": [
    "print(\"hello\")"
   ]
  },
  {
   "cell_type": "code",
   "execution_count": 2,
   "id": "690db49b-2fec-46ed-93ff-0d9ba6191da1",
   "metadata": {},
   "outputs": [
    {
     "name": "stdout",
     "output_type": "stream",
     "text": [
      "hey\n"
     ]
    }
   ],
   "source": [
    "print(\"hey\")"
   ]
  },
  {
   "cell_type": "markdown",
   "id": "11df1fe7-d97b-4551-88ab-a295a6990348",
   "metadata": {},
   "source": [
    "## Shortcuts\n",
    "\n",
    "### Subtitle\n",
    "\n",
    "shift+enter: executing a cell\n",
    "\n",
    "esc: switching to command mode\n",
    "\n",
    "- a: create new cell above\n",
    "- b: create new cell below\n",
    "- x: delete cell\n",
    "- m: switch to markdown\n",
    "\n",
    "enter: switching back to cell"
   ]
  },
  {
   "cell_type": "code",
   "execution_count": 3,
   "id": "9b8a49f2-9c31-4b08-933f-3ff3fbe90d12",
   "metadata": {},
   "outputs": [
    {
     "name": "stdout",
     "output_type": "stream",
     "text": [
      "something else\n"
     ]
    }
   ],
   "source": [
    "print(\"something else\")"
   ]
  }
 ],
 "metadata": {
  "kernelspec": {
   "display_name": "Python 3 (ipykernel)",
   "language": "python",
   "name": "python3"
  },
  "language_info": {
   "codemirror_mode": {
    "name": "ipython",
    "version": 3
   },
   "file_extension": ".py",
   "mimetype": "text/x-python",
   "name": "python",
   "nbconvert_exporter": "python",
   "pygments_lexer": "ipython3",
   "version": "3.12.5"
  }
 },
 "nbformat": 4,
 "nbformat_minor": 5
}
