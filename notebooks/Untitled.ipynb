{
 "cells": [
  {
   "cell_type": "markdown",
   "id": "eff05e56-e885-431e-bf65-2aa978abc977",
   "metadata": {},
   "source": [
    "# Loops\n",
    "Loops run the same task on a collection"
   ]
  },
  {
   "cell_type": "code",
   "execution_count": 4,
   "id": "3758058d-3922-4da8-934d-3ad2ae14020a",
   "metadata": {},
   "outputs": [],
   "source": [
    "heights_m = [0, 0, 10, 5, 2]"
   ]
  },
  {
   "cell_type": "code",
   "execution_count": 5,
   "id": "4882065c-9e81-46ef-8334-8b1f85c125df",
   "metadata": {},
   "outputs": [
    {
     "data": {
      "text/plain": [
       "1"
      ]
     },
     "execution_count": 5,
     "metadata": {},
     "output_type": "execute_result"
    }
   ],
   "source": [
    "heights_m[0] + 1"
   ]
  },
  {
   "cell_type": "code",
   "execution_count": 6,
   "id": "7107a4d6-4627-4c22-b00e-88ff69ef66df",
   "metadata": {},
   "outputs": [
    {
     "data": {
      "text/plain": [
       "1"
      ]
     },
     "execution_count": 6,
     "metadata": {},
     "output_type": "execute_result"
    }
   ],
   "source": [
    "heights_m [1] + 1"
   ]
  },
  {
   "cell_type": "code",
   "execution_count": 7,
   "id": "fdb68f1b-d11d-4fca-9602-ebb452d28b1c",
   "metadata": {},
   "outputs": [
    {
     "name": "stdout",
     "output_type": "stream",
     "text": [
      "0\n",
      "0\n",
      "10\n",
      "5\n",
      "2\n"
     ]
    }
   ],
   "source": [
    "for height in heights_m:\n",
    "    print(height)"
   ]
  },
  {
   "cell_type": "code",
   "execution_count": 8,
   "id": "d7cf83dd-1271-43a8-900c-a452bd633642",
   "metadata": {},
   "outputs": [
    {
     "name": "stdout",
     "output_type": "stream",
     "text": [
      "1\n",
      "1\n",
      "11\n",
      "6\n",
      "3\n"
     ]
    }
   ],
   "source": [
    "for height in heights_m:\n",
    "    new_height = height + 1\n",
    "    print(new_height)"
   ]
  },
  {
   "cell_type": "code",
   "execution_count": 9,
   "id": "ce0f7f2b-db66-4dbb-b17e-ce52589e8400",
   "metadata": {},
   "outputs": [
    {
     "name": "stdout",
     "output_type": "stream",
     "text": [
      "2\n"
     ]
    }
   ],
   "source": [
    "print(height)"
   ]
  },
  {
   "cell_type": "code",
   "execution_count": 10,
   "id": "706e057c-0b1c-4d0a-ad15-a03c8037ceef",
   "metadata": {},
   "outputs": [
    {
     "name": "stdout",
     "output_type": "stream",
     "text": [
      "0\n",
      "0\n",
      "10\n",
      "5\n",
      "2\n"
     ]
    }
   ],
   "source": [
    "height = 150\n",
    "for height in heights_m:\n",
    "    print(height)"
   ]
  },
  {
   "cell_type": "code",
   "execution_count": 11,
   "id": "f10916b8-5617-430b-adec-6b17d1eb9c4f",
   "metadata": {},
   "outputs": [
    {
     "name": "stdout",
     "output_type": "stream",
     "text": [
      "2\n"
     ]
    }
   ],
   "source": [
    "print(height)"
   ]
  },
  {
   "cell_type": "code",
   "execution_count": 13,
   "id": "98a8ccfa-d5a4-41c8-92ce-6e439b49a2bb",
   "metadata": {},
   "outputs": [
    {
     "name": "stdout",
     "output_type": "stream",
     "text": [
      "starting height 0\n",
      "new heights length 1\n",
      "[1]\n",
      "starting height 0\n",
      "new heights length 2\n",
      "[1, 1]\n",
      "starting height 10\n",
      "new heights length 3\n",
      "[1, 1, 11]\n",
      "starting height 5\n",
      "new heights length 4\n",
      "[1, 1, 11, 6]\n",
      "starting height 2\n",
      "new heights length 5\n",
      "[1, 1, 11, 6, 3]\n"
     ]
    }
   ],
   "source": [
    "heights_m = [0, 0, 10, 5, 2]\n",
    "new_heights_m = []\n",
    "for height in heights_m:\n",
    "    print(\"starting height\", height)\n",
    "    new_height = height + 1\n",
    "    new_heights_m.append(new_height)\n",
    "    print(\"new heights length\", \n",
    "          len(new_heights_m))\n",
    "    print(new_heights_m)"
   ]
  },
  {
   "cell_type": "code",
   "execution_count": null,
   "id": "4e42261b-acc0-4734-a1e1-1bed81b52b82",
   "metadata": {},
   "outputs": [],
   "source": []
  }
 ],
 "metadata": {
  "kernelspec": {
   "display_name": "Python 3 (ipykernel)",
   "language": "python",
   "name": "python3"
  },
  "language_info": {
   "codemirror_mode": {
    "name": "ipython",
    "version": 3
   },
   "file_extension": ".py",
   "mimetype": "text/x-python",
   "name": "python",
   "nbconvert_exporter": "python",
   "pygments_lexer": "ipython3",
   "version": "3.13.0"
  }
 },
 "nbformat": 4,
 "nbformat_minor": 5
}
