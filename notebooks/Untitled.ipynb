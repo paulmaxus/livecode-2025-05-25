{
 "cells": [
  {
   "cell_type": "code",
   "execution_count": 1,
   "id": "cacbbc33-4532-42c4-9a7f-0f2ede604f2e",
   "metadata": {},
   "outputs": [
    {
     "name": "stdout",
     "output_type": "stream",
     "text": [
      "hello\n"
     ]
    }
   ],
   "source": [
    "print(\"hello\")"
   ]
  },
  {
   "cell_type": "code",
   "execution_count": 2,
   "id": "690db49b-2fec-46ed-93ff-0d9ba6191da1",
   "metadata": {},
   "outputs": [
    {
     "name": "stdout",
     "output_type": "stream",
     "text": [
      "hey\n"
     ]
    }
   ],
   "source": [
    "print(\"hey\")"
   ]
  },
  {
   "cell_type": "markdown",
   "id": "1915e455-927c-4bcb-820e-20fb9a4c53a0",
   "metadata": {},
   "source": [
    "## Shortcuts\n",
    "\n",
    "shift+enter: executing a cell\n",
    "\n",
    "esc: switching to command mode\n",
    "\n",
    "- a: create new cell above\n",
    "- b: create new cell below\n",
    "\n",
    "enter: switching back to cell\n"
   ]
  },
  {
   "cell_type": "code",
   "execution_count": null,
   "id": "9b8a49f2-9c31-4b08-933f-3ff3fbe90d12",
   "metadata": {},
   "outputs": [],
   "source": []
  }
 ],
 "metadata": {
  "kernelspec": {
   "display_name": "Python 3 (ipykernel)",
   "language": "python",
   "name": "python3"
  },
  "language_info": {
   "codemirror_mode": {
    "name": "ipython",
    "version": 3
   },
   "file_extension": ".py",
   "mimetype": "text/x-python",
   "name": "python",
   "nbconvert_exporter": "python",
   "pygments_lexer": "ipython3",
   "version": "3.12.5"
  }
 },
 "nbformat": 4,
 "nbformat_minor": 5
}
