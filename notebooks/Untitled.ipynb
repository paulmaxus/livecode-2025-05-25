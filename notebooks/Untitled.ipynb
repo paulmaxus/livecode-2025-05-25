{
 "cells": [
  {
   "cell_type": "markdown",
   "id": "eff05e56-e885-431e-bf65-2aa978abc977",
   "metadata": {},
   "source": [
    "# Loops\n",
    "Loops run the same task on a collection"
   ]
  },
  {
   "cell_type": "code",
   "execution_count": 4,
   "id": "3758058d-3922-4da8-934d-3ad2ae14020a",
   "metadata": {},
   "outputs": [],
   "source": [
    "heights_m = [0, 0, 10, 5, 2]"
   ]
  },
  {
   "cell_type": "code",
   "execution_count": 5,
   "id": "4882065c-9e81-46ef-8334-8b1f85c125df",
   "metadata": {},
   "outputs": [
    {
     "data": {
      "text/plain": [
       "1"
      ]
     },
     "execution_count": 5,
     "metadata": {},
     "output_type": "execute_result"
    }
   ],
   "source": [
    "heights_m[0] + 1"
   ]
  },
  {
   "cell_type": "code",
   "execution_count": 6,
   "id": "7107a4d6-4627-4c22-b00e-88ff69ef66df",
   "metadata": {},
   "outputs": [
    {
     "data": {
      "text/plain": [
       "1"
      ]
     },
     "execution_count": 6,
     "metadata": {},
     "output_type": "execute_result"
    }
   ],
   "source": [
    "heights_m [1] + 1"
   ]
  },
  {
   "cell_type": "code",
   "execution_count": 7,
   "id": "fdb68f1b-d11d-4fca-9602-ebb452d28b1c",
   "metadata": {},
   "outputs": [
    {
     "name": "stdout",
     "output_type": "stream",
     "text": [
      "0\n",
      "0\n",
      "10\n",
      "5\n",
      "2\n"
     ]
    }
   ],
   "source": [
    "for height in heights_m:\n",
    "    print(height)"
   ]
  },
  {
   "cell_type": "code",
   "execution_count": 8,
   "id": "d7cf83dd-1271-43a8-900c-a452bd633642",
   "metadata": {},
   "outputs": [
    {
     "name": "stdout",
     "output_type": "stream",
     "text": [
      "1\n",
      "1\n",
      "11\n",
      "6\n",
      "3\n"
     ]
    }
   ],
   "source": [
    "for height in heights_m:\n",
    "    new_height = height + 1\n",
    "    print(new_height)"
   ]
  },
  {
   "cell_type": "code",
   "execution_count": null,
   "id": "ce0f7f2b-db66-4dbb-b17e-ce52589e8400",
   "metadata": {},
   "outputs": [],
   "source": []
  }
 ],
 "metadata": {
  "kernelspec": {
   "display_name": "Python 3 (ipykernel)",
   "language": "python",
   "name": "python3"
  },
  "language_info": {
   "codemirror_mode": {
    "name": "ipython",
    "version": 3
   },
   "file_extension": ".py",
   "mimetype": "text/x-python",
   "name": "python",
   "nbconvert_exporter": "python",
   "pygments_lexer": "ipython3",
   "version": "3.13.0"
  }
 },
 "nbformat": 4,
 "nbformat_minor": 5
}
