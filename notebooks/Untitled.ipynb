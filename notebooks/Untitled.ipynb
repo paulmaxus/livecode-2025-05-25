{
 "cells": [
  {
   "cell_type": "markdown",
   "id": "eff05e56-e885-431e-bf65-2aa978abc977",
   "metadata": {},
   "source": [
    "# Loops\n",
    "Loops run the same task on a collection"
   ]
  },
  {
   "cell_type": "code",
   "execution_count": null,
   "id": "3758058d-3922-4da8-934d-3ad2ae14020a",
   "metadata": {},
   "outputs": [],
   "source": []
  }
 ],
 "metadata": {
  "kernelspec": {
   "display_name": "Python 3 (ipykernel)",
   "language": "python",
   "name": "python3"
  },
  "language_info": {
   "codemirror_mode": {
    "name": "ipython",
    "version": 3
   },
   "file_extension": ".py",
   "mimetype": "text/x-python",
   "name": "python",
   "nbconvert_exporter": "python",
   "pygments_lexer": "ipython3",
   "version": "3.13.0"
  }
 },
 "nbformat": 4,
 "nbformat_minor": 5
}
