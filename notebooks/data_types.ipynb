{
 "cells": [
  {
   "cell_type": "markdown",
   "id": "528c863b-b1f2-4143-a4af-765ae711f980",
   "metadata": {},
   "source": [
    "# Data types and type conversion\n",
    "\n",
    "- every value in Python has a type\n",
    "- integer (int): positive or negative whole numbers\n",
    "- floats, floating point numbers: decimal, real numbers, 3.14\n",
    "- character strings (string, str): text (\"max paulus\")\n",
    "- boolean (bool): truth values, True, False"
   ]
  },
  {
   "cell_type": "code",
   "execution_count": 1,
   "id": "685c2c05-83ad-4cb8-96e2-bf4bb3d5a4eb",
   "metadata": {},
   "outputs": [],
   "source": [
    "age = 11"
   ]
  },
  {
   "cell_type": "code",
   "execution_count": 2,
   "id": "4f88ea8e-09b8-4e1f-9afe-c73fd8102f79",
   "metadata": {},
   "outputs": [
    {
     "name": "stdout",
     "output_type": "stream",
     "text": [
      "<class 'int'>\n"
     ]
    }
   ],
   "source": [
    "# print() takes sequence of values/variables, \n",
    "# type() takes value/variable\n",
    "#type(age)\n",
    "print(type(age))"
   ]
  },
  {
   "cell_type": "code",
   "execution_count": 3,
   "id": "2207b606-ea70-4f20-ad64-f15adb9cbf3f",
   "metadata": {},
   "outputs": [
    {
     "name": "stdout",
     "output_type": "stream",
     "text": [
      "<class 'int'>\n"
     ]
    }
   ],
   "source": [
    "type_age = type(age)\n",
    "print(type_age)"
   ]
  },
  {
   "cell_type": "code",
   "execution_count": 4,
   "id": "23e0e035-c7b9-42f7-908e-280fbb59a5d4",
   "metadata": {},
   "outputs": [],
   "source": [
    "# in R tidyverse this would be type(age) %>% print()"
   ]
  },
  {
   "cell_type": "code",
   "execution_count": 5,
   "id": "14d8ebc0-8cf3-48d8-a00b-32aed3e4093e",
   "metadata": {},
   "outputs": [
    {
     "name": "stdout",
     "output_type": "stream",
     "text": [
      "11\n"
     ]
    }
   ],
   "source": [
    "print(age)"
   ]
  },
  {
   "cell_type": "code",
   "execution_count": 6,
   "id": "84579bdb-c26f-479e-b1fc-f2805cbe4217",
   "metadata": {},
   "outputs": [],
   "source": [
    "age = age + 2"
   ]
  },
  {
   "cell_type": "code",
   "execution_count": 7,
   "id": "729846d8-b80a-417c-90b2-2a0aa7f14b75",
   "metadata": {},
   "outputs": [
    {
     "name": "stdout",
     "output_type": "stream",
     "text": [
      "13\n"
     ]
    }
   ],
   "source": [
    "print(age)"
   ]
  },
  {
   "cell_type": "code",
   "execution_count": 17,
   "id": "fa42c0be-c35f-4130-b3db-fd06cf84b728",
   "metadata": {},
   "outputs": [],
   "source": [
    "country_origin = \"Germany\""
   ]
  },
  {
   "cell_type": "code",
   "execution_count": 9,
   "id": "a9271f4a-44f1-46b3-be90-0b3212b0f368",
   "metadata": {},
   "outputs": [
    {
     "name": "stdout",
     "output_type": "stream",
     "text": [
      "Germany\n"
     ]
    }
   ],
   "source": [
    "print(country_origin)"
   ]
  },
  {
   "cell_type": "code",
   "execution_count": 10,
   "id": "a43251a1-1c0e-44b6-b7dd-77c0e841792e",
   "metadata": {},
   "outputs": [
    {
     "name": "stdout",
     "output_type": "stream",
     "text": [
      "<class 'str'>\n"
     ]
    }
   ],
   "source": [
    "print(type(country_origin))"
   ]
  },
  {
   "cell_type": "code",
   "execution_count": 11,
   "id": "c721f7d7-5ef7-4a01-ba37-325f838c7aa9",
   "metadata": {},
   "outputs": [
    {
     "name": "stdout",
     "output_type": "stream",
     "text": [
      "15\n"
     ]
    }
   ],
   "source": [
    "print(age + 2)"
   ]
  },
  {
   "cell_type": "code",
   "execution_count": 12,
   "id": "126bc944-adcf-4d24-b953-4cd478c3c3d6",
   "metadata": {},
   "outputs": [
    {
     "ename": "TypeError",
     "evalue": "can only concatenate str (not \"int\") to str",
     "output_type": "error",
     "traceback": [
      "\u001b[1;31m---------------------------------------------------------------------------\u001b[0m",
      "\u001b[1;31mTypeError\u001b[0m                                 Traceback (most recent call last)",
      "Cell \u001b[1;32mIn[12], line 1\u001b[0m\n\u001b[1;32m----> 1\u001b[0m \u001b[38;5;28mprint\u001b[39m(\u001b[43mcountry_origin\u001b[49m\u001b[43m \u001b[49m\u001b[38;5;241;43m+\u001b[39;49m\u001b[43m \u001b[49m\u001b[38;5;241;43m2\u001b[39;49m)\n",
      "\u001b[1;31mTypeError\u001b[0m: can only concatenate str (not \"int\") to str"
     ]
    }
   ],
   "source": [
    "print(country_origin + 2)"
   ]
  },
  {
   "cell_type": "code",
   "execution_count": 13,
   "id": "c899d701-89fe-46c8-bb79-22304384f2fa",
   "metadata": {},
   "outputs": [
    {
     "name": "stdout",
     "output_type": "stream",
     "text": [
      "Germany_North\n"
     ]
    }
   ],
   "source": [
    "print(country_origin + \"_North\")"
   ]
  },
  {
   "cell_type": "code",
   "execution_count": 14,
   "id": "19548b2a-505e-4a0e-8358-af4a2eb49b83",
   "metadata": {},
   "outputs": [
    {
     "name": "stdout",
     "output_type": "stream",
     "text": [
      "Germany\n"
     ]
    }
   ],
   "source": [
    "print(country_origin)"
   ]
  },
  {
   "cell_type": "code",
   "execution_count": 15,
   "id": "8c74399c-2a8c-46b0-a602-c93b52e29a78",
   "metadata": {},
   "outputs": [],
   "source": [
    "country_origin = country_origin + \"_North\""
   ]
  },
  {
   "cell_type": "code",
   "execution_count": 18,
   "id": "e71938da-0bf4-41a8-9149-eb5d6ce079f7",
   "metadata": {},
   "outputs": [
    {
     "name": "stdout",
     "output_type": "stream",
     "text": [
      "Germany\n"
     ]
    }
   ],
   "source": [
    "print(country_origin)"
   ]
  },
  {
   "cell_type": "code",
   "execution_count": 19,
   "id": "92fdad70-165f-4ef8-871e-05d025f36054",
   "metadata": {},
   "outputs": [
    {
     "name": "stdout",
     "output_type": "stream",
     "text": [
      "Germany\n"
     ]
    }
   ],
   "source": [
    "print(country_origin)"
   ]
  },
  {
   "cell_type": "code",
   "execution_count": 20,
   "id": "ae7d6531-b891-4bbf-8070-154867f7bbcd",
   "metadata": {},
   "outputs": [
    {
     "name": "stdout",
     "output_type": "stream",
     "text": [
      "G\n"
     ]
    }
   ],
   "source": [
    "# reminder: character string\n",
    "print(country_origin[0])"
   ]
  },
  {
   "cell_type": "code",
   "execution_count": null,
   "id": "bca2b086-1847-4519-a14a-5b92c806d4e1",
   "metadata": {},
   "outputs": [],
   "source": [
    "# R: starts counting at 1\n",
    "# Python: starts counting at 0"
   ]
  },
  {
   "cell_type": "code",
   "execution_count": 21,
   "id": "f21d2918-f884-4271-b451-e147f293e613",
   "metadata": {},
   "outputs": [
    {
     "name": "stdout",
     "output_type": "stream",
     "text": [
      "e\n"
     ]
    }
   ],
   "source": [
    "print(country_origin[1])"
   ]
  },
  {
   "cell_type": "code",
   "execution_count": 22,
   "id": "7068e044-9179-438e-ad11-899dc397ae86",
   "metadata": {},
   "outputs": [
    {
     "ename": "IndexError",
     "evalue": "string index out of range",
     "output_type": "error",
     "traceback": [
      "\u001b[1;31m---------------------------------------------------------------------------\u001b[0m",
      "\u001b[1;31mIndexError\u001b[0m                                Traceback (most recent call last)",
      "Cell \u001b[1;32mIn[22], line 1\u001b[0m\n\u001b[1;32m----> 1\u001b[0m \u001b[38;5;28mprint\u001b[39m(\u001b[43mcountry_origin\u001b[49m\u001b[43m[\u001b[49m\u001b[38;5;241;43m10\u001b[39;49m\u001b[43m]\u001b[49m)\n",
      "\u001b[1;31mIndexError\u001b[0m: string index out of range"
     ]
    }
   ],
   "source": [
    "print(country_origin[10])"
   ]
  },
  {
   "cell_type": "markdown",
   "id": "a72ae6ca-d1b3-4e6d-8f67-906b84536546",
   "metadata": {},
   "source": [
    "## Slicing"
   ]
  },
  {
   "cell_type": "code",
   "execution_count": 23,
   "id": "75552f57-202c-472b-826b-9930e3002aa1",
   "metadata": {},
   "outputs": [
    {
     "name": "stdout",
     "output_type": "stream",
     "text": [
      "Germany\n"
     ]
    }
   ],
   "source": [
    "print(country_origin)"
   ]
  },
  {
   "cell_type": "code",
   "execution_count": 24,
   "id": "0984c82e-4a9a-4c94-88f5-88c0896482b0",
   "metadata": {},
   "outputs": [
    {
     "name": "stdout",
     "output_type": "stream",
     "text": [
      "Ger\n"
     ]
    }
   ],
   "source": [
    "print(country_origin[0:3])"
   ]
  },
  {
   "cell_type": "code",
   "execution_count": 26,
   "id": "ffd055fc-b82f-4463-8aee-4e6e11a4ddfa",
   "metadata": {},
   "outputs": [
    {
     "name": "stdout",
     "output_type": "stream",
     "text": [
      "m\n"
     ]
    }
   ],
   "source": [
    "print(country_origin[3])"
   ]
  },
  {
   "cell_type": "code",
   "execution_count": 27,
   "id": "5cd7072e-c5ee-47b8-877b-6e9d9d4c677a",
   "metadata": {},
   "outputs": [
    {
     "name": "stdout",
     "output_type": "stream",
     "text": [
      "7\n"
     ]
    }
   ],
   "source": [
    "print(len(country_origin))"
   ]
  },
  {
   "cell_type": "code",
   "execution_count": 32,
   "id": "10c74384-c83e-4ea4-91c8-fd7c96e69fcf",
   "metadata": {},
   "outputs": [
    {
     "ename": "IndexError",
     "evalue": "string index out of range",
     "output_type": "error",
     "traceback": [
      "\u001b[1;31m---------------------------------------------------------------------------\u001b[0m",
      "\u001b[1;31mIndexError\u001b[0m                                Traceback (most recent call last)",
      "Cell \u001b[1;32mIn[32], line 1\u001b[0m\n\u001b[1;32m----> 1\u001b[0m \u001b[38;5;28mprint\u001b[39m(\u001b[43mcountry_origin\u001b[49m\u001b[43m[\u001b[49m\u001b[38;5;241;43m8\u001b[39;49m\u001b[43m]\u001b[49m)\n",
      "\u001b[1;31mIndexError\u001b[0m: string index out of range"
     ]
    }
   ],
   "source": [
    "print(country_origin[8])"
   ]
  },
  {
   "cell_type": "code",
   "execution_count": 33,
   "id": "cb297e2e-fe52-4956-ae9c-41e0187db2d1",
   "metadata": {},
   "outputs": [
    {
     "name": "stdout",
     "output_type": "stream",
     "text": [
      "Help on built-in function len in module builtins:\n",
      "\n",
      "len(obj, /)\n",
      "    Return the number of items in a container.\n",
      "\n"
     ]
    }
   ],
   "source": [
    "help(len)"
   ]
  },
  {
   "cell_type": "code",
   "execution_count": 34,
   "id": "763b28f4-9662-4a59-b03b-b23e841da158",
   "metadata": {},
   "outputs": [
    {
     "data": {
      "text/plain": [
       "\u001b[1;31mSignature:\u001b[0m \u001b[0mlen\u001b[0m\u001b[1;33m(\u001b[0m\u001b[0mobj\u001b[0m\u001b[1;33m,\u001b[0m \u001b[1;33m/\u001b[0m\u001b[1;33m)\u001b[0m\u001b[1;33m\u001b[0m\u001b[1;33m\u001b[0m\u001b[0m\n",
       "\u001b[1;31mDocstring:\u001b[0m Return the number of items in a container.\n",
       "\u001b[1;31mType:\u001b[0m      builtin_function_or_method"
      ]
     },
     "metadata": {},
     "output_type": "display_data"
    }
   ],
   "source": [
    "len?"
   ]
  },
  {
   "cell_type": "code",
   "execution_count": 35,
   "id": "aadbdc9d-72c1-496a-a43d-653cb7ed0e53",
   "metadata": {},
   "outputs": [
    {
     "data": {
      "text/plain": [
       "7"
      ]
     },
     "execution_count": 35,
     "metadata": {},
     "output_type": "execute_result"
    }
   ],
   "source": [
    "len(country_origin)"
   ]
  },
  {
   "cell_type": "code",
   "execution_count": 36,
   "id": "1cd267d3-2431-4e1f-9c7a-eb56f89e7b43",
   "metadata": {},
   "outputs": [
    {
     "name": "stdout",
     "output_type": "stream",
     "text": [
      "1\n",
      "2\n",
      "3\n"
     ]
    }
   ],
   "source": [
    "print(1)\n",
    "print(2)\n",
    "print(3)"
   ]
  },
  {
   "cell_type": "code",
   "execution_count": 37,
   "id": "d321f35d-e2e6-4e51-8ca7-7e1e9a7b573e",
   "metadata": {},
   "outputs": [
    {
     "data": {
      "text/plain": [
       "1"
      ]
     },
     "execution_count": 37,
     "metadata": {},
     "output_type": "execute_result"
    }
   ],
   "source": [
    "1"
   ]
  },
  {
   "cell_type": "code",
   "execution_count": 38,
   "id": "19d3924f-691a-4676-8906-cc9fb01eecd6",
   "metadata": {},
   "outputs": [
    {
     "data": {
      "text/plain": [
       "3"
      ]
     },
     "execution_count": 38,
     "metadata": {},
     "output_type": "execute_result"
    }
   ],
   "source": [
    "1\n",
    "2\n",
    "3"
   ]
  },
  {
   "cell_type": "markdown",
   "id": "cab2fb8e-8df7-4410-ad8b-78f16fc04a2b",
   "metadata": {},
   "source": [
    "# Exercise"
   ]
  },
  {
   "cell_type": "code",
   "execution_count": 39,
   "id": "abcd15bd-a473-468f-b186-88d823f5c914",
   "metadata": {},
   "outputs": [],
   "source": [
    "building = \"skyscraper\""
   ]
  },
  {
   "cell_type": "code",
   "execution_count": 40,
   "id": "3c5f1361-a83a-400f-87c4-859faf86dbbb",
   "metadata": {},
   "outputs": [
    {
     "name": "stdout",
     "output_type": "stream",
     "text": [
      "skyscraper\n"
     ]
    }
   ],
   "source": [
    "print(building)"
   ]
  },
  {
   "cell_type": "code",
   "execution_count": 42,
   "id": "5658df1e-7f40-4b62-aa86-dff3665c09a5",
   "metadata": {},
   "outputs": [
    {
     "data": {
      "text/plain": [
       "'e'"
      ]
     },
     "execution_count": 42,
     "metadata": {},
     "output_type": "execute_result"
    }
   ],
   "source": [
    "# [0:3]\n",
    "building[-2:-1]"
   ]
  },
  {
   "cell_type": "code",
   "execution_count": 43,
   "id": "15d73eab-9293-4531-afbd-64939e39e7d6",
   "metadata": {},
   "outputs": [
    {
     "data": {
      "text/plain": [
       "'skyscrape'"
      ]
     },
     "execution_count": 43,
     "metadata": {},
     "output_type": "execute_result"
    }
   ],
   "source": [
    "building[0:-1]"
   ]
  },
  {
   "cell_type": "code",
   "execution_count": 44,
   "id": "0c241d74-7641-4dab-9bd7-b7bb64b1f1db",
   "metadata": {},
   "outputs": [
    {
     "data": {
      "text/plain": [
       "'r'"
      ]
     },
     "execution_count": 44,
     "metadata": {},
     "output_type": "execute_result"
    }
   ],
   "source": [
    "building[-1:]"
   ]
  },
  {
   "cell_type": "code",
   "execution_count": 45,
   "id": "e0e3d45c-1489-46de-b8a2-b26fb5c25bbe",
   "metadata": {},
   "outputs": [
    {
     "data": {
      "text/plain": [
       "'r'"
      ]
     },
     "execution_count": 45,
     "metadata": {},
     "output_type": "execute_result"
    }
   ],
   "source": [
    "building[-1]"
   ]
  },
  {
   "cell_type": "markdown",
   "id": "57d08054-b725-4cd6-ac5e-ac41cebd9e5d",
   "metadata": {},
   "source": [
    "# Type conversion"
   ]
  },
  {
   "cell_type": "code",
   "execution_count": 46,
   "id": "83a4edf8-890a-409f-85f5-13db3ce51d58",
   "metadata": {},
   "outputs": [
    {
     "ename": "TypeError",
     "evalue": "can only concatenate str (not \"int\") to str",
     "output_type": "error",
     "traceback": [
      "\u001b[1;31m---------------------------------------------------------------------------\u001b[0m",
      "\u001b[1;31mTypeError\u001b[0m                                 Traceback (most recent call last)",
      "Cell \u001b[1;32mIn[46], line 1\u001b[0m\n\u001b[1;32m----> 1\u001b[0m \u001b[38;5;28mprint\u001b[39m(\u001b[38;5;124;43m\"\u001b[39;49m\u001b[38;5;124;43mskyscraper\u001b[39;49m\u001b[38;5;124;43m\"\u001b[39;49m\u001b[43m \u001b[49m\u001b[38;5;241;43m+\u001b[39;49m\u001b[43m \u001b[49m\u001b[38;5;241;43m1\u001b[39;49m)\n",
      "\u001b[1;31mTypeError\u001b[0m: can only concatenate str (not \"int\") to str"
     ]
    }
   ],
   "source": [
    "print(\"skyscraper\" + 1)"
   ]
  },
  {
   "cell_type": "code",
   "execution_count": 47,
   "id": "03bd576c-be88-403e-8d0f-372dd2cf2866",
   "metadata": {},
   "outputs": [
    {
     "name": "stdout",
     "output_type": "stream",
     "text": [
      "<class 'int'>\n"
     ]
    }
   ],
   "source": [
    "print(type(1))"
   ]
  },
  {
   "cell_type": "code",
   "execution_count": null,
   "id": "a327675f-4a4f-4f98-a682-0426a9d4d54d",
   "metadata": {},
   "outputs": [],
   "source": [
    "print(str()"
   ]
  }
 ],
 "metadata": {
  "kernelspec": {
   "display_name": "Python 3 (ipykernel)",
   "language": "python",
   "name": "python3"
  },
  "language_info": {
   "codemirror_mode": {
    "name": "ipython",
    "version": 3
   },
   "file_extension": ".py",
   "mimetype": "text/x-python",
   "name": "python",
   "nbconvert_exporter": "python",
   "pygments_lexer": "ipython3",
   "version": "3.12.5"
  }
 },
 "nbformat": 4,
 "nbformat_minor": 5
}
