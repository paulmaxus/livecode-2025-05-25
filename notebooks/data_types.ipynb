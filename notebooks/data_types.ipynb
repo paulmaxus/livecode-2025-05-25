{
 "cells": [
  {
   "cell_type": "markdown",
   "id": "528c863b-b1f2-4143-a4af-765ae711f980",
   "metadata": {},
   "source": [
    "# Data types and type conversion\n",
    "\n",
    "- every value in Python has a type\n",
    "- integer (int): positive or negative whole numbers\n",
    "- floats, floating point numbers: decimal, real numbers, 3.14\n",
    "- character strings (string, str): text (\"max paulus\")\n",
    "- boolean (bool): truth values, True, False"
   ]
  },
  {
   "cell_type": "code",
   "execution_count": 1,
   "id": "685c2c05-83ad-4cb8-96e2-bf4bb3d5a4eb",
   "metadata": {},
   "outputs": [],
   "source": [
    "age = 11"
   ]
  },
  {
   "cell_type": "code",
   "execution_count": 2,
   "id": "4f88ea8e-09b8-4e1f-9afe-c73fd8102f79",
   "metadata": {},
   "outputs": [
    {
     "name": "stdout",
     "output_type": "stream",
     "text": [
      "<class 'int'>\n"
     ]
    }
   ],
   "source": [
    "# print() takes sequence of values/variables, \n",
    "# type() takes value/variable\n",
    "#type(age)\n",
    "print(type(age))"
   ]
  },
  {
   "cell_type": "code",
   "execution_count": 3,
   "id": "2207b606-ea70-4f20-ad64-f15adb9cbf3f",
   "metadata": {},
   "outputs": [
    {
     "name": "stdout",
     "output_type": "stream",
     "text": [
      "<class 'int'>\n"
     ]
    }
   ],
   "source": [
    "type_age = type(age)\n",
    "print(type_age)"
   ]
  },
  {
   "cell_type": "code",
   "execution_count": 4,
   "id": "23e0e035-c7b9-42f7-908e-280fbb59a5d4",
   "metadata": {},
   "outputs": [],
   "source": [
    "# in R tidyverse this would be type(age) %>% print()"
   ]
  },
  {
   "cell_type": "code",
   "execution_count": 5,
   "id": "14d8ebc0-8cf3-48d8-a00b-32aed3e4093e",
   "metadata": {},
   "outputs": [
    {
     "name": "stdout",
     "output_type": "stream",
     "text": [
      "11\n"
     ]
    }
   ],
   "source": [
    "print(age)"
   ]
  },
  {
   "cell_type": "code",
   "execution_count": 6,
   "id": "84579bdb-c26f-479e-b1fc-f2805cbe4217",
   "metadata": {},
   "outputs": [],
   "source": [
    "age = age + 2"
   ]
  },
  {
   "cell_type": "code",
   "execution_count": 7,
   "id": "729846d8-b80a-417c-90b2-2a0aa7f14b75",
   "metadata": {},
   "outputs": [
    {
     "name": "stdout",
     "output_type": "stream",
     "text": [
      "13\n"
     ]
    }
   ],
   "source": [
    "print(age)"
   ]
  },
  {
   "cell_type": "code",
   "execution_count": 17,
   "id": "fa42c0be-c35f-4130-b3db-fd06cf84b728",
   "metadata": {},
   "outputs": [],
   "source": [
    "country_origin = \"Germany\""
   ]
  },
  {
   "cell_type": "code",
   "execution_count": 9,
   "id": "a9271f4a-44f1-46b3-be90-0b3212b0f368",
   "metadata": {},
   "outputs": [
    {
     "name": "stdout",
     "output_type": "stream",
     "text": [
      "Germany\n"
     ]
    }
   ],
   "source": [
    "print(country_origin)"
   ]
  },
  {
   "cell_type": "code",
   "execution_count": 10,
   "id": "a43251a1-1c0e-44b6-b7dd-77c0e841792e",
   "metadata": {},
   "outputs": [
    {
     "name": "stdout",
     "output_type": "stream",
     "text": [
      "<class 'str'>\n"
     ]
    }
   ],
   "source": [
    "print(type(country_origin))"
   ]
  },
  {
   "cell_type": "code",
   "execution_count": 11,
   "id": "c721f7d7-5ef7-4a01-ba37-325f838c7aa9",
   "metadata": {},
   "outputs": [
    {
     "name": "stdout",
     "output_type": "stream",
     "text": [
      "15\n"
     ]
    }
   ],
   "source": [
    "print(age + 2)"
   ]
  },
  {
   "cell_type": "code",
   "execution_count": 12,
   "id": "126bc944-adcf-4d24-b953-4cd478c3c3d6",
   "metadata": {},
   "outputs": [
    {
     "ename": "TypeError",
     "evalue": "can only concatenate str (not \"int\") to str",
     "output_type": "error",
     "traceback": [
      "\u001b[1;31m---------------------------------------------------------------------------\u001b[0m",
      "\u001b[1;31mTypeError\u001b[0m                                 Traceback (most recent call last)",
      "Cell \u001b[1;32mIn[12], line 1\u001b[0m\n\u001b[1;32m----> 1\u001b[0m \u001b[38;5;28mprint\u001b[39m(\u001b[43mcountry_origin\u001b[49m\u001b[43m \u001b[49m\u001b[38;5;241;43m+\u001b[39;49m\u001b[43m \u001b[49m\u001b[38;5;241;43m2\u001b[39;49m)\n",
      "\u001b[1;31mTypeError\u001b[0m: can only concatenate str (not \"int\") to str"
     ]
    }
   ],
   "source": [
    "print(country_origin + 2)"
   ]
  },
  {
   "cell_type": "code",
   "execution_count": 13,
   "id": "c899d701-89fe-46c8-bb79-22304384f2fa",
   "metadata": {},
   "outputs": [
    {
     "name": "stdout",
     "output_type": "stream",
     "text": [
      "Germany_North\n"
     ]
    }
   ],
   "source": [
    "print(country_origin + \"_North\")"
   ]
  },
  {
   "cell_type": "code",
   "execution_count": 14,
   "id": "19548b2a-505e-4a0e-8358-af4a2eb49b83",
   "metadata": {},
   "outputs": [
    {
     "name": "stdout",
     "output_type": "stream",
     "text": [
      "Germany\n"
     ]
    }
   ],
   "source": [
    "print(country_origin)"
   ]
  },
  {
   "cell_type": "code",
   "execution_count": 15,
   "id": "8c74399c-2a8c-46b0-a602-c93b52e29a78",
   "metadata": {},
   "outputs": [],
   "source": [
    "country_origin = country_origin + \"_North\""
   ]
  },
  {
   "cell_type": "code",
   "execution_count": 18,
   "id": "e71938da-0bf4-41a8-9149-eb5d6ce079f7",
   "metadata": {},
   "outputs": [
    {
     "name": "stdout",
     "output_type": "stream",
     "text": [
      "Germany\n"
     ]
    }
   ],
   "source": [
    "print(country_origin)"
   ]
  },
  {
   "cell_type": "code",
   "execution_count": 19,
   "id": "92fdad70-165f-4ef8-871e-05d025f36054",
   "metadata": {},
   "outputs": [
    {
     "name": "stdout",
     "output_type": "stream",
     "text": [
      "Germany\n"
     ]
    }
   ],
   "source": [
    "print(country_origin)"
   ]
  },
  {
   "cell_type": "code",
   "execution_count": 20,
   "id": "ae7d6531-b891-4bbf-8070-154867f7bbcd",
   "metadata": {},
   "outputs": [
    {
     "name": "stdout",
     "output_type": "stream",
     "text": [
      "G\n"
     ]
    }
   ],
   "source": [
    "# reminder: character string\n",
    "print(country_origin[0])"
   ]
  },
  {
   "cell_type": "code",
   "execution_count": null,
   "id": "bca2b086-1847-4519-a14a-5b92c806d4e1",
   "metadata": {},
   "outputs": [],
   "source": [
    "# R: starts counting at 1\n",
    "# Python: starts counting at 0"
   ]
  },
  {
   "cell_type": "code",
   "execution_count": 21,
   "id": "f21d2918-f884-4271-b451-e147f293e613",
   "metadata": {},
   "outputs": [
    {
     "name": "stdout",
     "output_type": "stream",
     "text": [
      "e\n"
     ]
    }
   ],
   "source": [
    "print(country_origin[1])"
   ]
  },
  {
   "cell_type": "code",
   "execution_count": 22,
   "id": "7068e044-9179-438e-ad11-899dc397ae86",
   "metadata": {},
   "outputs": [
    {
     "ename": "IndexError",
     "evalue": "string index out of range",
     "output_type": "error",
     "traceback": [
      "\u001b[1;31m---------------------------------------------------------------------------\u001b[0m",
      "\u001b[1;31mIndexError\u001b[0m                                Traceback (most recent call last)",
      "Cell \u001b[1;32mIn[22], line 1\u001b[0m\n\u001b[1;32m----> 1\u001b[0m \u001b[38;5;28mprint\u001b[39m(\u001b[43mcountry_origin\u001b[49m\u001b[43m[\u001b[49m\u001b[38;5;241;43m10\u001b[39;49m\u001b[43m]\u001b[49m)\n",
      "\u001b[1;31mIndexError\u001b[0m: string index out of range"
     ]
    }
   ],
   "source": [
    "print(country_origin[10])"
   ]
  },
  {
   "cell_type": "markdown",
   "id": "a72ae6ca-d1b3-4e6d-8f67-906b84536546",
   "metadata": {},
   "source": [
    "## "
   ]
  }
 ],
 "metadata": {
  "kernelspec": {
   "display_name": "Python 3 (ipykernel)",
   "language": "python",
   "name": "python3"
  },
  "language_info": {
   "codemirror_mode": {
    "name": "ipython",
    "version": 3
   },
   "file_extension": ".py",
   "mimetype": "text/x-python",
   "name": "python",
   "nbconvert_exporter": "python",
   "pygments_lexer": "ipython3",
   "version": "3.12.5"
  }
 },
 "nbformat": 4,
 "nbformat_minor": 5
}
