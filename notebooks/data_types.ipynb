{
 "cells": [
  {
   "cell_type": "markdown",
   "id": "528c863b-b1f2-4143-a4af-765ae711f980",
   "metadata": {},
   "source": [
    "# Data types and type conversion\n",
    "\n",
    "- every value in Python has a type\n",
    "- integer (int): positive or negative whole numbers\n",
    "- floats, floating point numbers: decimal, real numbers, 3.14\n",
    "- character strings (string, str): text (\"max paulus\")\n",
    "- boolean (bool): truth values, True, False"
   ]
  },
  {
   "cell_type": "code",
   "execution_count": 1,
   "id": "685c2c05-83ad-4cb8-96e2-bf4bb3d5a4eb",
   "metadata": {},
   "outputs": [],
   "source": [
    "age = 11"
   ]
  },
  {
   "cell_type": "code",
   "execution_count": 2,
   "id": "4f88ea8e-09b8-4e1f-9afe-c73fd8102f79",
   "metadata": {},
   "outputs": [
    {
     "name": "stdout",
     "output_type": "stream",
     "text": [
      "<class 'int'>\n"
     ]
    }
   ],
   "source": [
    "# print() takes sequence of values/variables, \n",
    "# type() takes value/variable\n",
    "#type(age)\n",
    "print(type(age))"
   ]
  },
  {
   "cell_type": "code",
   "execution_count": 3,
   "id": "2207b606-ea70-4f20-ad64-f15adb9cbf3f",
   "metadata": {},
   "outputs": [
    {
     "name": "stdout",
     "output_type": "stream",
     "text": [
      "<class 'int'>\n"
     ]
    }
   ],
   "source": [
    "type_age = type(age)\n",
    "print(type_age)"
   ]
  },
  {
   "cell_type": "code",
   "execution_count": 4,
   "id": "23e0e035-c7b9-42f7-908e-280fbb59a5d4",
   "metadata": {},
   "outputs": [],
   "source": [
    "# in R tidyverse this would be type(age) %>% print()"
   ]
  },
  {
   "cell_type": "code",
   "execution_count": 5,
   "id": "14d8ebc0-8cf3-48d8-a00b-32aed3e4093e",
   "metadata": {},
   "outputs": [
    {
     "name": "stdout",
     "output_type": "stream",
     "text": [
      "11\n"
     ]
    }
   ],
   "source": [
    "print(age)"
   ]
  },
  {
   "cell_type": "code",
   "execution_count": 6,
   "id": "84579bdb-c26f-479e-b1fc-f2805cbe4217",
   "metadata": {},
   "outputs": [],
   "source": [
    "age = age + 2"
   ]
  },
  {
   "cell_type": "code",
   "execution_count": 7,
   "id": "729846d8-b80a-417c-90b2-2a0aa7f14b75",
   "metadata": {},
   "outputs": [
    {
     "name": "stdout",
     "output_type": "stream",
     "text": [
      "13\n"
     ]
    }
   ],
   "source": [
    "print(age)"
   ]
  },
  {
   "cell_type": "code",
   "execution_count": null,
   "id": "fa42c0be-c35f-4130-b3db-fd06cf84b728",
   "metadata": {},
   "outputs": [],
   "source": [
    "participant_"
   ]
  }
 ],
 "metadata": {
  "kernelspec": {
   "display_name": "Python 3 (ipykernel)",
   "language": "python",
   "name": "python3"
  },
  "language_info": {
   "codemirror_mode": {
    "name": "ipython",
    "version": 3
   },
   "file_extension": ".py",
   "mimetype": "text/x-python",
   "name": "python",
   "nbconvert_exporter": "python",
   "pygments_lexer": "ipython3",
   "version": "3.12.5"
  }
 },
 "nbformat": 4,
 "nbformat_minor": 5
}
