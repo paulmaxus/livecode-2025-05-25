{
 "cells": [
  {
   "cell_type": "markdown",
   "id": "528c863b-b1f2-4143-a4af-765ae711f980",
   "metadata": {},
   "source": [
    "# Data types and type conversion\n",
    "\n",
    "- every value in Python has a type\n",
    "- integer (int): positive or negative whole numbers\n",
    "- floats, floating point numbers: decimal, real numbers, 3.14\n",
    "- character strings (string, str): text (\"max paulus\")"
   ]
  },
  {
   "cell_type": "code",
   "execution_count": null,
   "id": "685c2c05-83ad-4cb8-96e2-bf4bb3d5a4eb",
   "metadata": {},
   "outputs": [],
   "source": []
  }
 ],
 "metadata": {
  "kernelspec": {
   "display_name": "Python 3 (ipykernel)",
   "language": "python",
   "name": "python3"
  },
  "language_info": {
   "codemirror_mode": {
    "name": "ipython",
    "version": 3
   },
   "file_extension": ".py",
   "mimetype": "text/x-python",
   "name": "python",
   "nbconvert_exporter": "python",
   "pygments_lexer": "ipython3",
   "version": "3.12.5"
  }
 },
 "nbformat": 4,
 "nbformat_minor": 5
}
