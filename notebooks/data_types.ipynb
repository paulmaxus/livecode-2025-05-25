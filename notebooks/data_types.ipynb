{
 "cells": [
  {
   "cell_type": "markdown",
   "id": "528c863b-b1f2-4143-a4af-765ae711f980",
   "metadata": {},
   "source": [
    "# Data types and type conversion\n",
    "\n",
    "- every value in Python has a type\n",
    "- integer (int): positive or negative whole numbers\n",
    "- floats, floating point numbers: decimal, real numbers, 3.14\n",
    "- character strings (string, str): text (\"max paulus\")\n",
    "- boolean (bool): truth values, True, False"
   ]
  },
  {
   "cell_type": "code",
   "execution_count": 1,
   "id": "685c2c05-83ad-4cb8-96e2-bf4bb3d5a4eb",
   "metadata": {},
   "outputs": [],
   "source": [
    "age = 11"
   ]
  },
  {
   "cell_type": "code",
   "execution_count": 2,
   "id": "4f88ea8e-09b8-4e1f-9afe-c73fd8102f79",
   "metadata": {},
   "outputs": [
    {
     "name": "stdout",
     "output_type": "stream",
     "text": [
      "<class 'int'>\n"
     ]
    }
   ],
   "source": [
    "# print() takes sequence of values/variables, \n",
    "# type() takes value/variable\n",
    "#type(age)\n",
    "print(type(age))"
   ]
  },
  {
   "cell_type": "code",
   "execution_count": 3,
   "id": "2207b606-ea70-4f20-ad64-f15adb9cbf3f",
   "metadata": {},
   "outputs": [
    {
     "name": "stdout",
     "output_type": "stream",
     "text": [
      "<class 'int'>\n"
     ]
    }
   ],
   "source": [
    "type_age = type(age)\n",
    "print(type_age)"
   ]
  },
  {
   "cell_type": "code",
   "execution_count": 4,
   "id": "23e0e035-c7b9-42f7-908e-280fbb59a5d4",
   "metadata": {},
   "outputs": [],
   "source": [
    "# in R tidyverse this would be type(age) %>% print()"
   ]
  },
  {
   "cell_type": "code",
   "execution_count": null,
   "id": "14d8ebc0-8cf3-48d8-a00b-32aed3e4093e",
   "metadata": {},
   "outputs": [],
   "source": []
  }
 ],
 "metadata": {
  "kernelspec": {
   "display_name": "Python 3 (ipykernel)",
   "language": "python",
   "name": "python3"
  },
  "language_info": {
   "codemirror_mode": {
    "name": "ipython",
    "version": 3
   },
   "file_extension": ".py",
   "mimetype": "text/x-python",
   "name": "python",
   "nbconvert_exporter": "python",
   "pygments_lexer": "ipython3",
   "version": "3.12.5"
  }
 },
 "nbformat": 4,
 "nbformat_minor": 5
}
