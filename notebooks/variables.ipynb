{
 "cells": [
  {
   "cell_type": "markdown",
   "id": "bf36907f-b616-465f-98f4-33826cb7ad98",
   "metadata": {},
   "source": [
    "# Variables and Assignment\n",
    "\n",
    "Variables are names/labels for values\n",
    "\n",
    "Conventions/Rules:\n",
    "- meaningful, e.g. country_origin\n",
    "- only letters, digits, underscore\n",
    "- cannot start with a digit, e.g. 1_country_origin\n",
    "- case-sensitive, age != AGE != AgE"
   ]
  },
  {
   "cell_type": "code",
   "execution_count": 1,
   "id": "d42ee3ff-0ffa-45bc-b24d-ca7590b7b36d",
   "metadata": {},
   "outputs": [],
   "source": [
    "age = 34"
   ]
  },
  {
   "cell_type": "code",
   "execution_count": null,
   "id": "bed6ac18-b905-4a71-a405-052fbb732453",
   "metadata": {},
   "outputs": [],
   "source": [
    "print("
   ]
  }
 ],
 "metadata": {
  "kernelspec": {
   "display_name": "Python 3 (ipykernel)",
   "language": "python",
   "name": "python3"
  },
  "language_info": {
   "codemirror_mode": {
    "name": "ipython",
    "version": 3
   },
   "file_extension": ".py",
   "mimetype": "text/x-python",
   "name": "python",
   "nbconvert_exporter": "python",
   "pygments_lexer": "ipython3",
   "version": "3.12.5"
  }
 },
 "nbformat": 4,
 "nbformat_minor": 5
}
