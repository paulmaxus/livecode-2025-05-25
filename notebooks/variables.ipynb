{
 "cells": [
  {
   "cell_type": "markdown",
   "id": "bf36907f-b616-465f-98f4-33826cb7ad98",
   "metadata": {},
   "source": [
    "# Variables and Assignment\n",
    "\n",
    "Variables are names/labels for values\n",
    "\n",
    "Conventions/Rules:\n",
    "- meaningful, e.g. country_origin\n",
    "- only letters, digits, underscore\n",
    "- cannot start with a digit, e.g. 1_country_origin\n",
    "- case-sensitive, age != AGE != AgE"
   ]
  },
  {
   "cell_type": "code",
   "execution_count": 1,
   "id": "d42ee3ff-0ffa-45bc-b24d-ca7590b7b36d",
   "metadata": {},
   "outputs": [],
   "source": [
    "#\n",
    "age = 34"
   ]
  },
  {
   "cell_type": "code",
   "execution_count": 2,
   "id": "bed6ac18-b905-4a71-a405-052fbb732453",
   "metadata": {},
   "outputs": [
    {
     "name": "stdout",
     "output_type": "stream",
     "text": [
      "34\n"
     ]
    }
   ],
   "source": [
    "print(age)"
   ]
  },
  {
   "cell_type": "code",
   "execution_count": 4,
   "id": "a10dafb7-45e7-4e46-8224-f69e31d4d843",
   "metadata": {},
   "outputs": [],
   "source": [
    "#dir()"
   ]
  },
  {
   "cell_type": "code",
   "execution_count": null,
   "id": "ad3fd05c-2709-4b8a-bbe1-686c75b8a7cc",
   "metadata": {},
   "outputs": [],
   "source": []
  }
 ],
 "metadata": {
  "kernelspec": {
   "display_name": "Python 3 (ipykernel)",
   "language": "python",
   "name": "python3"
  },
  "language_info": {
   "codemirror_mode": {
    "name": "ipython",
    "version": 3
   },
   "file_extension": ".py",
   "mimetype": "text/x-python",
   "name": "python",
   "nbconvert_exporter": "python",
   "pygments_lexer": "ipython3",
   "version": "3.12.5"
  }
 },
 "nbformat": 4,
 "nbformat_minor": 5
}
