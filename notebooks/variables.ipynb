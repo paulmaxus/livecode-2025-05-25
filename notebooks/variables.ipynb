{
 "cells": [
  {
   "cell_type": "markdown",
   "id": "bf36907f-b616-465f-98f4-33826cb7ad98",
   "metadata": {},
   "source": [
    "# Variables and Assignment\n",
    "\n",
    "Variables are names/labels for values\n",
    "\n",
    "Conventions/Rules:\n",
    "- meaningful, e.g. country_origin\n",
    "- only letters, digits, underscore\n",
    "- cannot start with a digit, e.g. 1_country_origin\n",
    "- case-sensitive, age != AGE != AgE"
   ]
  },
  {
   "cell_type": "code",
   "execution_count": 5,
   "id": "d42ee3ff-0ffa-45bc-b24d-ca7590b7b36d",
   "metadata": {},
   "outputs": [],
   "source": [
    "# create variables assignment\n",
    "age = 34"
   ]
  },
  {
   "cell_type": "code",
   "execution_count": 6,
   "id": "bed6ac18-b905-4a71-a405-052fbb732453",
   "metadata": {},
   "outputs": [
    {
     "name": "stdout",
     "output_type": "stream",
     "text": [
      "34\n"
     ]
    }
   ],
   "source": [
    "print(age)"
   ]
  },
  {
   "cell_type": "code",
   "execution_count": 7,
   "id": "a10dafb7-45e7-4e46-8224-f69e31d4d843",
   "metadata": {},
   "outputs": [],
   "source": [
    "# list all variables\n",
    "#dir()"
   ]
  },
  {
   "cell_type": "code",
   "execution_count": 8,
   "id": "ad3fd05c-2709-4b8a-bbe1-686c75b8a7cc",
   "metadata": {},
   "outputs": [
    {
     "ename": "SyntaxError",
     "evalue": "invalid decimal literal (3458778158.py, line 1)",
     "output_type": "error",
     "traceback": [
      "\u001b[1;36m  Cell \u001b[1;32mIn[8], line 1\u001b[1;36m\u001b[0m\n\u001b[1;33m    1_age = 34\u001b[0m\n\u001b[1;37m     ^\u001b[0m\n\u001b[1;31mSyntaxError\u001b[0m\u001b[1;31m:\u001b[0m invalid decimal literal\n"
     ]
    }
   ],
   "source": [
    "1_age = 34"
   ]
  },
  {
   "cell_type": "code",
   "execution_count": 9,
   "id": "9b985980-f04b-4851-a343-8a1a5c65a3e8",
   "metadata": {},
   "outputs": [
    {
     "ename": "SyntaxError",
     "evalue": "invalid syntax (3263308946.py, line 1)",
     "output_type": "error",
     "traceback": [
      "\u001b[1;36m  Cell \u001b[1;32mIn[9], line 1\u001b[1;36m\u001b[0m\n\u001b[1;33m    age& = 34\u001b[0m\n\u001b[1;37m         ^\u001b[0m\n\u001b[1;31mSyntaxError\u001b[0m\u001b[1;31m:\u001b[0m invalid syntax\n"
     ]
    }
   ],
   "source": [
    "age& = 34"
   ]
  },
  {
   "cell_type": "code",
   "execution_count": 10,
   "id": "94b87295-b8da-43aa-bd63-1f6573d4d47d",
   "metadata": {},
   "outputs": [
    {
     "name": "stdout",
     "output_type": "stream",
     "text": [
      "34\n"
     ]
    }
   ],
   "source": [
    "print(age)"
   ]
  },
  {
   "cell_type": "code",
   "execution_count": 11,
   "id": "f90438b4-bf88-47fc-b7b3-80e15556a835",
   "metadata": {},
   "outputs": [],
   "source": [
    "AgE = 35"
   ]
  },
  {
   "cell_type": "code",
   "execution_count": 12,
   "id": "737d8b43-76c1-4329-ba9c-9b84d1a1e748",
   "metadata": {},
   "outputs": [
    {
     "name": "stdout",
     "output_type": "stream",
     "text": [
      "34 35\n"
     ]
    }
   ],
   "source": [
    "print(age, AgE)"
   ]
  },
  {
   "cell_type": "code",
   "execution_count": 13,
   "id": "f1509521-ed51-4b80-b1e4-a84ad1dd20f2",
   "metadata": {},
   "outputs": [],
   "source": [
    "age = 30"
   ]
  },
  {
   "cell_type": "code",
   "execution_count": 14,
   "id": "1a0721e0-87c2-46fd-afe6-68646f1fa165",
   "metadata": {},
   "outputs": [
    {
     "name": "stdout",
     "output_type": "stream",
     "text": [
      "30\n"
     ]
    }
   ],
   "source": [
    "print(age)"
   ]
  },
  {
   "cell_type": "code",
   "execution_count": 15,
   "id": "8dd713db-9ee5-4850-948e-21a0158203de",
   "metadata": {},
   "outputs": [
    {
     "name": "stdout",
     "output_type": "stream",
     "text": [
      "30\n"
     ]
    }
   ],
   "source": [
    "print(age)"
   ]
  },
  {
   "cell_type": "code",
   "execution_count": 16,
   "id": "b1d3dcc2-7632-45db-ab72-0e48035db86d",
   "metadata": {},
   "outputs": [],
   "source": [
    "ages = [3,5,7,13]"
   ]
  },
  {
   "cell_type": "code",
   "execution_count": 17,
   "id": "21a2520e-61fb-46af-818a-39537e3b4528",
   "metadata": {},
   "outputs": [
    {
     "name": "stdout",
     "output_type": "stream",
     "text": [
      "[3, 5, 7, 13]\n"
     ]
    }
   ],
   "source": [
    "print(ages)"
   ]
  },
  {
   "cell_type": "code",
   "execution_count": 18,
   "id": "0f629714-b7a6-424d-a319-f0bb159321df",
   "metadata": {},
   "outputs": [],
   "source": [
    "name = \"max\""
   ]
  },
  {
   "cell_type": "code",
   "execution_count": 19,
   "id": "db0a8d55-2370-42c8-944a-5e5f6c42f6de",
   "metadata": {},
   "outputs": [],
   "source": [
    "last_name = 'paulus'"
   ]
  },
  {
   "cell_type": "code",
   "execution_count": 20,
   "id": "e39b2c8b-fb19-4f27-b812-bfe54251ef34",
   "metadata": {},
   "outputs": [],
   "source": [
    "full_name = \"max 'paulus'\""
   ]
  },
  {
   "cell_type": "code",
   "execution_count": 21,
   "id": "87a65d9f-2363-43c9-bc41-a5be6c5bfe1d",
   "metadata": {},
   "outputs": [
    {
     "name": "stdout",
     "output_type": "stream",
     "text": [
      "max 'paulus'\n"
     ]
    }
   ],
   "source": [
    "print(full_name)"
   ]
  },
  {
   "cell_type": "code",
   "execution_count": null,
   "id": "74b081c8-6c1e-4983-ba87-c5b88a3f0c59",
   "metadata": {},
   "outputs": [],
   "source": []
  }
 ],
 "metadata": {
  "kernelspec": {
   "display_name": "Python 3 (ipykernel)",
   "language": "python",
   "name": "python3"
  },
  "language_info": {
   "codemirror_mode": {
    "name": "ipython",
    "version": 3
   },
   "file_extension": ".py",
   "mimetype": "text/x-python",
   "name": "python",
   "nbconvert_exporter": "python",
   "pygments_lexer": "ipython3",
   "version": "3.12.5"
  }
 },
 "nbformat": 4,
 "nbformat_minor": 5
}
