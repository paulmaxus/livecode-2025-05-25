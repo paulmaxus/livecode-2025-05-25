{
 "cells": [
  {
   "cell_type": "markdown",
   "id": "bf36907f-b616-465f-98f4-33826cb7ad98",
   "metadata": {},
   "source": [
    "# Variables and Assignment\n",
    "\n",
    "Variables are names/labels for values\n",
    "\n",
    "Conventions/Rules:\n",
    "- meaningful, e.g. country_origin\n",
    "- only letters, digits, underscore\n",
    "- cannot start with a digit, e.g. 1_country_origin\n",
    "- case-sensitive"
   ]
  }
 ],
 "metadata": {
  "kernelspec": {
   "display_name": "Python 3 (ipykernel)",
   "language": "python",
   "name": "python3"
  },
  "language_info": {
   "codemirror_mode": {
    "name": "ipython",
    "version": 3
   },
   "file_extension": ".py",
   "mimetype": "text/x-python",
   "name": "python",
   "nbconvert_exporter": "python",
   "pygments_lexer": "ipython3",
   "version": "3.12.5"
  }
 },
 "nbformat": 4,
 "nbformat_minor": 5
}
